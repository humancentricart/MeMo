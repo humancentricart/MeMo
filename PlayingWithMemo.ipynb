{
 "cells": [
  {
   "cell_type": "markdown",
   "id": "906bcd7e-a96f-4a12-a157-634555d41a0a",
   "metadata": {},
   "source": [
    "# MeMo \n",
    "Simple version to understand the inner workings (version v0.3)"
   ]
  },
  {
   "cell_type": "code",
   "id": "c1fb8646-500b-4d4e-872b-0f2bc51f8a2e",
   "metadata": {
    "ExecuteTime": {
     "end_time": "2025-01-14T13:59:35.828950Z",
     "start_time": "2025-01-14T13:59:28.631789Z"
    }
   },
   "source": "import MeMoCMM as MeMoCMM\n",
   "execution_count": 1,
   "outputs": []
  },
  {
   "cell_type": "markdown",
   "id": "bf93091d-2818-49d7-9170-8eea03ddfce5",
   "metadata": {},
   "source": [
    "Memo: Initializing the memorizer with the dictionary from two texts"
   ]
  },
  {
   "cell_type": "code",
   "id": "f55d6ff0-4a27-44cc-9593-1bdf8f53f721",
   "metadata": {
    "ExecuteTime": {
     "end_time": "2025-01-14T13:59:38.736402Z",
     "start_time": "2025-01-14T13:59:37.941558Z"
    }
   },
   "source": [
    "# Meta Parameters : \n",
    "#    d - inner dimennsion\n",
    "#    h - number of heads\n",
    "#    l - number of layers\n",
    "d,h,l = 1024, 4, 4\n",
    "chunk_length = 1024\n",
    "## Reading the two texts\n",
    "with open(\"testo_di_prova.txt\", encoding=\"utf8\") as my_first_text_f:\n",
    "    my_first_text_tokenized = my_first_text_f.read().split()\n",
    "with open(\"testo_di_prova2.txt\", encoding=\"utf8\") as my_first_text_f:\n",
    "    my_second_text_tokenized = my_first_text_f.read().split()\n",
    "\n",
    "token_dictionary = list(set(my_first_text_tokenized+my_second_text_tokenized))\n",
    "\n",
    "memo = MeMoCMM.MeMo(d,h,l, chunk_length, token_dictionary)"
   ],
   "execution_count": 2,
   "outputs": []
  },
  {
   "cell_type": "markdown",
   "id": "77c94e47-0d33-4478-835a-1fe5ead05303",
   "metadata": {},
   "source": [
    "Memorizing the first text and evaluating if it is memorized"
   ]
  },
  {
   "cell_type": "code",
   "id": "a4d76c36-d35c-4d47-b3f4-0fe172901dd3",
   "metadata": {
    "ExecuteTime": {
     "end_time": "2025-01-14T14:00:32.881691Z",
     "start_time": "2025-01-14T13:59:40.791719Z"
    }
   },
   "source": [
    "memo.memorize_text(my_second_text_tokenized)\n",
    "e = MeMoCMM.Evaluation()\n",
    "print(\"Memorized\")\n",
    "e1 = e.check_memorization(memo,my_first_text_tokenized, starting_point=8)\n",
    "e2 = e.check_memorization(memo,my_second_text_tokenized, starting_point=8)\n",
    "print(\"Memorization level of first text  : \", e1) \n",
    "print(\"Memorization level of second text : \", e2) "
   ],
   "execution_count": 3,
   "outputs": []
  },
  {
   "cell_type": "markdown",
   "id": "ec75c848-e9a8-402b-9709-798ad40b5d87",
   "metadata": {},
   "source": [
    "Memorizing the second text and cheking if it affected the memorization of the first text"
   ]
  },
  {
   "cell_type": "code",
   "id": "234196b2-0f00-4f08-90a7-48592623e653",
   "metadata": {
    "ExecuteTime": {
     "end_time": "2025-01-14T14:02:45.222414Z",
     "start_time": "2025-01-14T14:01:47.828602Z"
    }
   },
   "source": [
    "memo.memorize_text(my_first_text_tokenized)\n",
    "e1 = e.check_memorization(memo,my_first_text_tokenized, starting_point=8)\n",
    "e2 = e.check_memorization(memo,my_second_text_tokenized, starting_point=8)\n",
    "print(\"Memorization level of first text  : \", e1) \n",
    "print(\"Memorization level of second text : \", e2) "
   ],
   "execution_count": 4,
   "outputs": []
  },
  {
   "cell_type": "markdown",
   "id": "07882124-35fe-48fc-b359-c260f06f51a7",
   "metadata": {},
   "source": [
    "Forgetting the first document"
   ]
  },
  {
   "cell_type": "code",
   "id": "a1beed2e-e108-4a31-bcdb-1d821af65c6b",
   "metadata": {
    "ExecuteTime": {
     "end_time": "2025-01-14T14:03:01.031272Z",
     "start_time": "2025-01-14T14:02:58.590905Z"
    }
   },
   "source": [
    "memo.forget_text(my_first_text_tokenized,completely=False)"
   ],
   "execution_count": 5,
   "outputs": []
  },
  {
   "cell_type": "markdown",
   "id": "dcef3dcb-a0c2-41fe-9b4d-7b8ff7726910",
   "metadata": {},
   "source": [
    "Checking the effect on the two texts"
   ]
  },
  {
   "cell_type": "code",
   "id": "b86df2dd-81e9-4997-9fe1-ab715da04641",
   "metadata": {
    "ExecuteTime": {
     "end_time": "2025-01-14T14:04:13.891292Z",
     "start_time": "2025-01-14T14:03:03.245531Z"
    }
   },
   "source": [
    "e1 = e.check_memorization(memo,my_first_text_tokenized, starting_point=8)\n",
    "e2 = e.check_memorization(memo,my_second_text_tokenized, starting_point=8)\n",
    "print(\"Memorization level of first text  : \", e1) \n",
    "print(\"Memorization level of second text : \", e2) "
   ],
   "execution_count": 6,
   "outputs": []
  }
 ],
 "metadata": {
  "kernelspec": {
   "display_name": "Python 3 (ipykernel)",
   "language": "python",
   "name": "python3"
  },
  "language_info": {
   "codemirror_mode": {
    "name": "ipython",
    "version": 3
   },
   "file_extension": ".py",
   "mimetype": "text/x-python",
   "name": "python",
   "nbconvert_exporter": "python",
   "pygments_lexer": "ipython3",
   "version": "3.11.8"
  }
 },
 "nbformat": 4,
 "nbformat_minor": 5
}
